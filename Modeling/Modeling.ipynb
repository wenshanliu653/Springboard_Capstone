{
 "cells": [
  {
   "cell_type": "markdown",
   "metadata": {},
   "source": [
    "##### Modeling\n"
   ]
  },
  {
   "cell_type": "code",
   "execution_count": 1,
   "metadata": {},
   "outputs": [
    {
     "data": {
      "text/plain": [
       "title                         0\n",
       "roaster                       0\n",
       "score                         0\n",
       "Roaster Location              0\n",
       "Review Date                   0\n",
       "Aroma                         0\n",
       "Acidity/Structure           142\n",
       "Body                          0\n",
       "Flavor                        0\n",
       "Aftertaste                    0\n",
       "coffee_name                   0\n",
       "region_africa_arabia          0\n",
       "region_caribbean              0\n",
       "region_central_america        0\n",
       "region_hawaii                 0\n",
       "region_asia_pacific           0\n",
       "is_blend                      0\n",
       "Est. Price USD                0\n",
       "Latitude                      0\n",
       "Longitude                     0\n",
       "January_Avg_Temp              0\n",
       "January_Precipitation         0\n",
       "July_Avg_Temp                 0\n",
       "July_Precipitation            0\n",
       "Est. Price USD_per_ounce      0\n",
       "whole-bean_Agtron             0\n",
       "ground-bean_Agtron            0\n",
       "Roast Level_Dark              0\n",
       "Roast Level_Light             0\n",
       "Roast Level_Medium            0\n",
       "Roast Level_Medium-Dark       0\n",
       "Roast Level_Medium-Light      0\n",
       "dtype: int64"
      ]
     },
     "execution_count": 1,
     "metadata": {},
     "output_type": "execute_result"
    }
   ],
   "source": [
    "# to import data \n",
    "import pandas as pd\n",
    "clean_data = pd.read_csv('../Pre-processing/coffee_data_converted_cleaned_dummy_scaled_train.csv')\n",
    "clean_data.head()\n",
    "\n",
    "clean_data.isnull().sum()"
   ]
  },
  {
   "cell_type": "markdown",
   "metadata": {},
   "source": [
    "There are still some null values in the dataset, so decide to drop them."
   ]
  },
  {
   "cell_type": "code",
   "execution_count": 2,
   "metadata": {},
   "outputs": [
    {
     "data": {
      "text/plain": [
       "title                       0\n",
       "roaster                     0\n",
       "score                       0\n",
       "Roaster Location            0\n",
       "Review Date                 0\n",
       "Aroma                       0\n",
       "Acidity/Structure           0\n",
       "Body                        0\n",
       "Flavor                      0\n",
       "Aftertaste                  0\n",
       "coffee_name                 0\n",
       "region_africa_arabia        0\n",
       "region_caribbean            0\n",
       "region_central_america      0\n",
       "region_hawaii               0\n",
       "region_asia_pacific         0\n",
       "is_blend                    0\n",
       "Est. Price USD              0\n",
       "Latitude                    0\n",
       "Longitude                   0\n",
       "January_Avg_Temp            0\n",
       "January_Precipitation       0\n",
       "July_Avg_Temp               0\n",
       "July_Precipitation          0\n",
       "Est. Price USD_per_ounce    0\n",
       "whole-bean_Agtron           0\n",
       "ground-bean_Agtron          0\n",
       "Roast Level_Dark            0\n",
       "Roast Level_Light           0\n",
       "Roast Level_Medium          0\n",
       "Roast Level_Medium-Dark     0\n",
       "Roast Level_Medium-Light    0\n",
       "dtype: int64"
      ]
     },
     "execution_count": 2,
     "metadata": {},
     "output_type": "execute_result"
    }
   ],
   "source": [
    "# remove null values in Acidty/Structure\n",
    "clean_data = clean_data.dropna(subset=['Acidity/Structure'])\n",
    "clean_data.isnull().sum()\n",
    "\n",
    "# remove null values in Aroma\n",
    "clean_data = clean_data.dropna(subset=['Aroma'])\n",
    "clean_data.isnull().sum()"
   ]
  },
  {
   "cell_type": "code",
   "execution_count": 3,
   "metadata": {},
   "outputs": [],
   "source": [
    "# split data into train and test dataset\n",
    "# import libraries\n",
    "from sklearn.model_selection import train_test_split\n",
    "from sklearn.linear_model import LinearRegression\n",
    "\n",
    "\n",
    "# define target variable\n",
    "y = clean_data['score']\n",
    "\n",
    "# define features\n",
    "X = clean_data.drop(columns=['score', 'title', 'roaster', 'Roaster Location', 'Review Date', 'coffee_name', 'Est. Price USD'])\n",
    "\n",
    "\n",
    "X_train, X_test, y_train, y_test = train_test_split(X, y, test_size=0.35, random_state=42)\n",
    "\n",
    "\n"
   ]
  },
  {
   "cell_type": "markdown",
   "metadata": {},
   "source": [
    "##### Model option: Linear Regression"
   ]
  },
  {
   "cell_type": "code",
   "execution_count": 4,
   "metadata": {},
   "outputs": [
    {
     "data": {
      "text/html": [
       "<style>#sk-container-id-1 {color: black;}#sk-container-id-1 pre{padding: 0;}#sk-container-id-1 div.sk-toggleable {background-color: white;}#sk-container-id-1 label.sk-toggleable__label {cursor: pointer;display: block;width: 100%;margin-bottom: 0;padding: 0.3em;box-sizing: border-box;text-align: center;}#sk-container-id-1 label.sk-toggleable__label-arrow:before {content: \"▸\";float: left;margin-right: 0.25em;color: #696969;}#sk-container-id-1 label.sk-toggleable__label-arrow:hover:before {color: black;}#sk-container-id-1 div.sk-estimator:hover label.sk-toggleable__label-arrow:before {color: black;}#sk-container-id-1 div.sk-toggleable__content {max-height: 0;max-width: 0;overflow: hidden;text-align: left;background-color: #f0f8ff;}#sk-container-id-1 div.sk-toggleable__content pre {margin: 0.2em;color: black;border-radius: 0.25em;background-color: #f0f8ff;}#sk-container-id-1 input.sk-toggleable__control:checked~div.sk-toggleable__content {max-height: 200px;max-width: 100%;overflow: auto;}#sk-container-id-1 input.sk-toggleable__control:checked~label.sk-toggleable__label-arrow:before {content: \"▾\";}#sk-container-id-1 div.sk-estimator input.sk-toggleable__control:checked~label.sk-toggleable__label {background-color: #d4ebff;}#sk-container-id-1 div.sk-label input.sk-toggleable__control:checked~label.sk-toggleable__label {background-color: #d4ebff;}#sk-container-id-1 input.sk-hidden--visually {border: 0;clip: rect(1px 1px 1px 1px);clip: rect(1px, 1px, 1px, 1px);height: 1px;margin: -1px;overflow: hidden;padding: 0;position: absolute;width: 1px;}#sk-container-id-1 div.sk-estimator {font-family: monospace;background-color: #f0f8ff;border: 1px dotted black;border-radius: 0.25em;box-sizing: border-box;margin-bottom: 0.5em;}#sk-container-id-1 div.sk-estimator:hover {background-color: #d4ebff;}#sk-container-id-1 div.sk-parallel-item::after {content: \"\";width: 100%;border-bottom: 1px solid gray;flex-grow: 1;}#sk-container-id-1 div.sk-label:hover label.sk-toggleable__label {background-color: #d4ebff;}#sk-container-id-1 div.sk-serial::before {content: \"\";position: absolute;border-left: 1px solid gray;box-sizing: border-box;top: 0;bottom: 0;left: 50%;z-index: 0;}#sk-container-id-1 div.sk-serial {display: flex;flex-direction: column;align-items: center;background-color: white;padding-right: 0.2em;padding-left: 0.2em;position: relative;}#sk-container-id-1 div.sk-item {position: relative;z-index: 1;}#sk-container-id-1 div.sk-parallel {display: flex;align-items: stretch;justify-content: center;background-color: white;position: relative;}#sk-container-id-1 div.sk-item::before, #sk-container-id-1 div.sk-parallel-item::before {content: \"\";position: absolute;border-left: 1px solid gray;box-sizing: border-box;top: 0;bottom: 0;left: 50%;z-index: -1;}#sk-container-id-1 div.sk-parallel-item {display: flex;flex-direction: column;z-index: 1;position: relative;background-color: white;}#sk-container-id-1 div.sk-parallel-item:first-child::after {align-self: flex-end;width: 50%;}#sk-container-id-1 div.sk-parallel-item:last-child::after {align-self: flex-start;width: 50%;}#sk-container-id-1 div.sk-parallel-item:only-child::after {width: 0;}#sk-container-id-1 div.sk-dashed-wrapped {border: 1px dashed gray;margin: 0 0.4em 0.5em 0.4em;box-sizing: border-box;padding-bottom: 0.4em;background-color: white;}#sk-container-id-1 div.sk-label label {font-family: monospace;font-weight: bold;display: inline-block;line-height: 1.2em;}#sk-container-id-1 div.sk-label-container {text-align: center;}#sk-container-id-1 div.sk-container {/* jupyter's `normalize.less` sets `[hidden] { display: none; }` but bootstrap.min.css set `[hidden] { display: none !important; }` so we also need the `!important` here to be able to override the default hidden behavior on the sphinx rendered scikit-learn.org. See: https://github.com/scikit-learn/scikit-learn/issues/21755 */display: inline-block !important;position: relative;}#sk-container-id-1 div.sk-text-repr-fallback {display: none;}</style><div id=\"sk-container-id-1\" class=\"sk-top-container\"><div class=\"sk-text-repr-fallback\"><pre>LinearRegression()</pre><b>In a Jupyter environment, please rerun this cell to show the HTML representation or trust the notebook. <br />On GitHub, the HTML representation is unable to render, please try loading this page with nbviewer.org.</b></div><div class=\"sk-container\" hidden><div class=\"sk-item\"><div class=\"sk-estimator sk-toggleable\"><input class=\"sk-toggleable__control sk-hidden--visually\" id=\"sk-estimator-id-1\" type=\"checkbox\" checked><label for=\"sk-estimator-id-1\" class=\"sk-toggleable__label sk-toggleable__label-arrow\">LinearRegression</label><div class=\"sk-toggleable__content\"><pre>LinearRegression()</pre></div></div></div></div></div>"
      ],
      "text/plain": [
       "LinearRegression()"
      ]
     },
     "execution_count": 4,
     "metadata": {},
     "output_type": "execute_result"
    }
   ],
   "source": [
    "# Linear Regression\n",
    "\n",
    "\n",
    "\n",
    "model = LinearRegression()\n",
    "model.fit(X_train, y_train)\n"
   ]
  },
  {
   "cell_type": "code",
   "execution_count": 5,
   "metadata": {},
   "outputs": [
    {
     "name": "stdout",
     "output_type": "stream",
     "text": [
      "MSE: 0.008814757840222932\n",
      "R2-score: 0.9956168182783834\n"
     ]
    }
   ],
   "source": [
    "# to see the Linear Regression model performance\n",
    "from sklearn.metrics import mean_squared_error, r2_score\n",
    "\n",
    "y_pred = model.predict(X_test)\n",
    "\n",
    "#\n",
    "mse = mean_squared_error(y_test, y_pred)\n",
    "print(f\"MSE: {mse}\")\n",
    "\n",
    "# 計算 R2-score\n",
    "r2_score = r2_score(y_test, y_pred)\n",
    "print(f\"R2-score: {r2_score}\")\n"
   ]
  },
  {
   "cell_type": "code",
   "execution_count": 6,
   "metadata": {},
   "outputs": [
    {
     "name": "stdout",
     "output_type": "stream",
     "text": [
      "Cross Validation R2: [0.99039955 0.99771346 0.99808877 0.99813696 0.99803103]\n",
      "Average R2: 0.996473953769723\n",
      "Standard Deviation: 0.0030408060067931885\n"
     ]
    }
   ],
   "source": [
    "from sklearn.model_selection import cross_val_score\n",
    "\n",
    "# 5 fold cross validation\n",
    "cv_scores = cross_val_score(model, X, y, cv=5)\n",
    "print(\"Cross Validation R2:\", cv_scores)\n",
    "print(\"Average R2:\", cv_scores.mean())\n",
    "print(\"Standard Deviation:\", cv_scores.std())"
   ]
  },
  {
   "cell_type": "code",
   "execution_count": 7,
   "metadata": {},
   "outputs": [
    {
     "name": "stdout",
     "output_type": "stream",
     "text": [
      "Ridge R2: 0.9956515359415603\n"
     ]
    }
   ],
   "source": [
    "from sklearn.metrics import mean_squared_error, r2_score as r2_score_metric  # 重命名避免衝突\n",
    "from sklearn.linear_model import Ridge, Lasso\n",
    "\n",
    "# Ridge 回歸\n",
    "ridge_model = Ridge(alpha=1.0)\n",
    "ridge_model.fit(X_train, y_train)\n",
    "ridge_pred = ridge_model.predict(X_test)\n",
    "print(\"Ridge R2:\", r2_score_metric(y_test, ridge_pred))\n"
   ]
  },
  {
   "cell_type": "code",
   "execution_count": 8,
   "metadata": {},
   "outputs": [
    {
     "data": {
      "text/plain": [
       "1338    93\n",
       "965     95\n",
       "600     94\n",
       "379     92\n",
       "448     93\n",
       "        ..\n",
       "393     90\n",
       "1227    93\n",
       "553     95\n",
       "281     94\n",
       "317     96\n",
       "Name: score, Length: 442, dtype: int64"
      ]
     },
     "execution_count": 8,
     "metadata": {},
     "output_type": "execute_result"
    }
   ],
   "source": [
    "y_test\n"
   ]
  },
  {
   "cell_type": "code",
   "execution_count": 9,
   "metadata": {},
   "outputs": [
    {
     "data": {
      "text/plain": [
       "array([93.0344582 , 94.97949447, 94.01087085, 91.99985504, 92.99972222,\n",
       "       93.01688287, 93.9961299 , 94.00982928, 91.02136204, 90.9846194 ,\n",
       "       90.97183816, 95.00262218, 92.98685686, 91.97683035, 91.98979797,\n",
       "       90.97780932, 93.99163433, 95.96083946, 93.00547105, 95.97816912,\n",
       "       96.97775306, 92.98484464, 92.99814612, 93.99840776, 90.97894055,\n",
       "       92.99175675, 91.969147  , 93.00236098, 93.98738492, 92.99875442,\n",
       "       94.97885898, 94.98110134, 92.00520885, 93.99447341, 94.98333487,\n",
       "       94.00616979, 94.98399109, 93.02026577, 92.97806403, 91.99184397,\n",
       "       94.02402107, 92.97370198, 95.99336721, 94.98677011, 92.99286854,\n",
       "       93.00611173, 93.00241712, 92.99933677, 94.9959556 , 94.99408963,\n",
       "       94.01702164, 94.01086754, 97.01070704, 94.00414343, 91.01188563,\n",
       "       91.98357576, 93.01751182, 91.9691423 , 92.03371435, 94.01256555,\n",
       "       92.99490498, 94.98162913, 94.98692812, 92.00901935, 90.9767557 ,\n",
       "       92.00914943, 93.99777655, 92.01846315, 93.99579439, 94.01333278,\n",
       "       93.99226619, 96.00756966, 94.96826834, 94.01230608, 92.01498243,\n",
       "       94.00047692, 94.00042954, 92.98865375, 91.99632931, 94.98503585,\n",
       "       91.96834402, 93.99388107, 94.00941415, 92.99842636, 93.99712072,\n",
       "       92.99248056, 94.00554405, 93.99894178, 94.00965586, 92.99494028,\n",
       "       91.98767126, 93.99125171, 96.96873524, 93.99989903, 93.00453545,\n",
       "       93.99110078, 93.01429108, 96.00329715, 94.00414343, 94.98851329,\n",
       "       93.00677443, 98.02318194, 95.98799739, 94.00532776, 92.00261181,\n",
       "       91.99296977, 93.00517465, 91.99444522, 95.00648087, 94.9856765 ,\n",
       "       92.00558793, 95.99253318, 94.02979004, 94.99653636, 93.00067128,\n",
       "       92.0094739 , 93.03029789, 96.01104347, 93.9944455 , 93.98862812,\n",
       "       92.99062487, 90.00882581, 95.00169925, 96.98640368, 92.99948202,\n",
       "       94.97630198, 90.97894055, 97.99757849, 93.99019038, 92.00207974,\n",
       "       94.01256555, 94.98692812, 93.99170065, 93.98704652, 94.01704866,\n",
       "       92.99806547, 94.02070971, 92.99273801, 94.99764961, 93.01623264,\n",
       "       93.99149249, 91.98995037, 93.99651601, 94.00496967, 93.96981058,\n",
       "       93.00458086, 94.97728625, 94.00133978, 93.000526  , 94.01702164,\n",
       "       92.99175785, 91.96005897, 94.00729022, 95.00619243, 92.99643525,\n",
       "       94.98922583, 93.99503594, 94.99352218, 93.00007507, 93.01557928,\n",
       "       87.97967263, 91.99131159, 93.99732615, 91.00957028, 92.99666263,\n",
       "       92.99624496, 94.01256555, 93.99865594, 93.0141077 , 94.00554405,\n",
       "       92.00022708, 93.99834135, 91.98246521, 94.01515041, 94.02220996,\n",
       "       92.9887133 , 90.96988757, 91.02072794, 94.00940253, 95.99253318,\n",
       "       93.99512081, 92.0161424 , 87.97967263, 93.97086208, 94.97948412,\n",
       "       94.97885898, 95.97919523, 92.99172739, 94.97777263, 89.98858114,\n",
       "       95.98547691, 94.01333278, 93.99444039, 92.98474395, 94.00354974,\n",
       "       93.95411047, 91.99954086, 93.99512081, 94.00584677, 95.9973255 ,\n",
       "       94.01579578, 94.00734891, 94.00319146, 93.01341843, 94.00234136,\n",
       "       95.00635992, 89.99208618, 93.01530849, 94.99554322, 89.99208618,\n",
       "       92.99157539, 92.99860422, 94.01631927, 89.98472467, 94.02493731,\n",
       "       94.01256555, 94.02720289, 93.9759885 , 93.00439697, 91.98979797,\n",
       "       92.9955587 , 93.00112505, 92.98451662, 93.98700563, 93.98177021,\n",
       "       94.98875363, 91.99131159, 93.00251498, 92.98156544, 91.99766197,\n",
       "       93.03100373, 94.98503585, 93.00673498, 93.02957218, 91.97827607,\n",
       "       93.0113986 , 94.98770695, 94.00421956, 95.99746961, 95.01518416,\n",
       "       94.01953197, 94.00148643, 92.99753127, 91.0011494 , 91.99238549,\n",
       "       93.01534109, 94.00736473, 93.99513386, 97.01070704, 95.97423045,\n",
       "       89.98968567, 93.99583625, 94.99355679, 94.00859153, 96.0037795 ,\n",
       "       91.98416431, 93.0042044 , 92.99340066, 93.00426512, 93.99513731,\n",
       "       92.99355318, 94.99898557, 94.03069689, 94.00130361, 93.99717764,\n",
       "       93.99442138, 95.9904784 , 93.0058689 , 94.99760128, 92.98782629,\n",
       "       94.01365066, 93.99865497, 93.99544036, 89.98056668, 94.99384822,\n",
       "       94.01193482, 93.97427448, 91.000489  , 91.99766197, 92.99986667,\n",
       "       94.0098532 , 94.0062733 , 93.0105178 , 94.00203794, 95.00062977,\n",
       "       93.01655255, 93.98557448, 92.98539139, 95.99285448, 94.98331874,\n",
       "       94.00917932, 92.01492211, 93.99218068, 92.98731847, 94.0189799 ,\n",
       "       91.97827607, 94.0028569 , 95.97711333, 90.97888342, 94.01702164,\n",
       "       93.00857214, 91.99417069, 93.00176403, 92.0172974 , 94.98893936,\n",
       "       95.99816585, 93.01581066, 90.98020519, 94.00835856, 94.01397267,\n",
       "       94.98503585, 94.99085717, 94.00583083, 94.00941415, 93.9872866 ,\n",
       "       92.00098534, 91.98768853, 93.00304358, 94.00524848, 93.99834135,\n",
       "       91.96672533, 94.99174019, 95.98547691, 93.00631184, 93.99404449,\n",
       "       92.99665885, 94.99121225, 94.00790295, 91.04501873, 92.99620347,\n",
       "       92.99756433, 91.03563013, 92.00868638, 93.01626111, 94.95843817,\n",
       "       94.99040437, 92.008125  , 94.98554964, 94.01936072, 93.00007507,\n",
       "       92.96874588, 93.01240201, 93.02572818, 93.00539367, 94.00695268,\n",
       "       94.01729807, 95.97991942, 93.98282241, 92.00594512, 93.01972527,\n",
       "       93.00192668, 93.01625393, 93.9908466 , 93.00336569, 94.9916443 ,\n",
       "       94.99408963, 93.03418185, 94.00437805, 95.0083842 , 95.00781225,\n",
       "       94.99654276, 93.00182017, 91.99029398, 94.99384822, 95.00185343,\n",
       "       93.01664474, 91.98183187, 92.0247451 , 94.00541141, 94.97318492,\n",
       "       91.99637863, 94.98927643, 93.0064964 , 94.01333278, 93.98308256,\n",
       "       94.96589774, 93.98277273, 94.00532776, 93.9961299 , 94.00409564,\n",
       "       91.99176811, 93.02126171, 95.00261791, 92.97359054, 94.9802296 ,\n",
       "       91.97431557, 94.98930196, 93.00353019, 93.98079095, 94.01631154,\n",
       "       91.99775685, 93.00240013, 92.98283355, 96.02442043, 94.98424079,\n",
       "       91.02083606, 94.00765383, 94.00153562, 94.98173745, 96.97859738,\n",
       "       92.99360987, 92.99666374, 93.99684963, 92.99798886, 94.99424648,\n",
       "       92.99586477, 91.99506239, 94.98894074, 92.99203452, 91.9828819 ,\n",
       "       93.00180804, 94.00732436, 94.99542365, 91.98185829, 94.99552922,\n",
       "       92.99795623, 94.97363017, 94.00095875, 93.00661663, 96.01104347,\n",
       "       95.00648087, 93.00605327, 93.03461129, 95.01104306, 93.00396572,\n",
       "       93.00385044, 94.0213462 , 94.00532776, 91.9865997 , 92.99842636,\n",
       "       93.99513731, 95.98993173, 93.99477781, 95.00046357, 90.97183816,\n",
       "       94.00414812, 93.9833219 , 89.98472467, 93.01667655, 95.00262218,\n",
       "       94.00765507, 95.99673162])"
      ]
     },
     "execution_count": 9,
     "metadata": {},
     "output_type": "execute_result"
    }
   ],
   "source": [
    "y_pred"
   ]
  },
  {
   "cell_type": "code",
   "execution_count": 10,
   "metadata": {},
   "outputs": [
    {
     "data": {
      "image/png": "[encoded data removed]",
      "text/plain": [
       "<Figure size 800x600 with 1 Axes>"
      ]
     },
     "metadata": {},
     "output_type": "display_data"
    }
   ],
   "source": [
    "# to see the Linear Regression model performance by scatter plot\n",
    "\n",
    "import matplotlib.pyplot as plt\n",
    "import seaborn as sns\n",
    "import numpy as np\n",
    "\n",
    "# calculate the number of points in the scatter plot\n",
    "unique_points, counts = np.unique(list(zip(y_test, y_pred)), axis=0, return_counts=True)\n",
    "\n",
    "# plot the scatter plot, use `size` to represent the number of points\n",
    "plt.figure(figsize=(8, 6))\n",
    "sns.scatterplot(x=unique_points[:, 0], y=unique_points[:, 1], size=counts, sizes=(20, 200), alpha=0.6)\n",
    "\n",
    "# reference line (ideal situation is y_pred = y_test)\n",
    "plt.plot([y_test.min(), y_test.max()], [y_test.min(), y_test.max()], 'r--')\n",
    "\n",
    "plt.xlabel(\"Actual Score\")\n",
    "plt.ylabel(\"Predicted Score\")\n",
    "plt.title(\"Linear Regression: Predicted vs Actual Score (with Size Indicating Overlap)\")\n",
    "\n",
    "plt.show()\n",
    "\n",
    "\n",
    "plt.show()"
   ]
  },
  {
   "cell_type": "markdown",
   "metadata": {},
   "source": [
    "##### Model option: Decision Tree Regressor"
   ]
  },
  {
   "cell_type": "code",
   "execution_count": 11,
   "metadata": {},
   "outputs": [
    {
     "data": {
      "text/html": [
       "<style>#sk-container-id-2 {color: black;}#sk-container-id-2 pre{padding: 0;}#sk-container-id-2 div.sk-toggleable {background-color: white;}#sk-container-id-2 label.sk-toggleable__label {cursor: pointer;display: block;width: 100%;margin-bottom: 0;padding: 0.3em;box-sizing: border-box;text-align: center;}#sk-container-id-2 label.sk-toggleable__label-arrow:before {content: \"▸\";float: left;margin-right: 0.25em;color: #696969;}#sk-container-id-2 label.sk-toggleable__label-arrow:hover:before {color: black;}#sk-container-id-2 div.sk-estimator:hover label.sk-toggleable__label-arrow:before {color: black;}#sk-container-id-2 div.sk-toggleable__content {max-height: 0;max-width: 0;overflow: hidden;text-align: left;background-color: #f0f8ff;}#sk-container-id-2 div.sk-toggleable__content pre {margin: 0.2em;color: black;border-radius: 0.25em;background-color: #f0f8ff;}#sk-container-id-2 input.sk-toggleable__control:checked~div.sk-toggleable__content {max-height: 200px;max-width: 100%;overflow: auto;}#sk-container-id-2 input.sk-toggleable__control:checked~label.sk-toggleable__label-arrow:before {content: \"▾\";}#sk-container-id-2 div.sk-estimator input.sk-toggleable__control:checked~label.sk-toggleable__label {background-color: #d4ebff;}#sk-container-id-2 div.sk-label input.sk-toggleable__control:checked~label.sk-toggleable__label {background-color: #d4ebff;}#sk-container-id-2 input.sk-hidden--visually {border: 0;clip: rect(1px 1px 1px 1px);clip: rect(1px, 1px, 1px, 1px);height: 1px;margin: -1px;overflow: hidden;padding: 0;position: absolute;width: 1px;}#sk-container-id-2 div.sk-estimator {font-family: monospace;background-color: #f0f8ff;border: 1px dotted black;border-radius: 0.25em;box-sizing: border-box;margin-bottom: 0.5em;}#sk-container-id-2 div.sk-estimator:hover {background-color: #d4ebff;}#sk-container-id-2 div.sk-parallel-item::after {content: \"\";width: 100%;border-bottom: 1px solid gray;flex-grow: 1;}#sk-container-id-2 div.sk-label:hover label.sk-toggleable__label {background-color: #d4ebff;}#sk-container-id-2 div.sk-serial::before {content: \"\";position: absolute;border-left: 1px solid gray;box-sizing: border-box;top: 0;bottom: 0;left: 50%;z-index: 0;}#sk-container-id-2 div.sk-serial {display: flex;flex-direction: column;align-items: center;background-color: white;padding-right: 0.2em;padding-left: 0.2em;position: relative;}#sk-container-id-2 div.sk-item {position: relative;z-index: 1;}#sk-container-id-2 div.sk-parallel {display: flex;align-items: stretch;justify-content: center;background-color: white;position: relative;}#sk-container-id-2 div.sk-item::before, #sk-container-id-2 div.sk-parallel-item::before {content: \"\";position: absolute;border-left: 1px solid gray;box-sizing: border-box;top: 0;bottom: 0;left: 50%;z-index: -1;}#sk-container-id-2 div.sk-parallel-item {display: flex;flex-direction: column;z-index: 1;position: relative;background-color: white;}#sk-container-id-2 div.sk-parallel-item:first-child::after {align-self: flex-end;width: 50%;}#sk-container-id-2 div.sk-parallel-item:last-child::after {align-self: flex-start;width: 50%;}#sk-container-id-2 div.sk-parallel-item:only-child::after {width: 0;}#sk-container-id-2 div.sk-dashed-wrapped {border: 1px dashed gray;margin: 0 0.4em 0.5em 0.4em;box-sizing: border-box;padding-bottom: 0.4em;background-color: white;}#sk-container-id-2 div.sk-label label {font-family: monospace;font-weight: bold;display: inline-block;line-height: 1.2em;}#sk-container-id-2 div.sk-label-container {text-align: center;}#sk-container-id-2 div.sk-container {/* jupyter's `normalize.less` sets `[hidden] { display: none; }` but bootstrap.min.css set `[hidden] { display: none !important; }` so we also need the `!important` here to be able to override the default hidden behavior on the sphinx rendered scikit-learn.org. See: https://github.com/scikit-learn/scikit-learn/issues/21755 */display: inline-block !important;position: relative;}#sk-container-id-2 div.sk-text-repr-fallback {display: none;}</style><div id=\"sk-container-id-2\" class=\"sk-top-container\"><div class=\"sk-text-repr-fallback\"><pre>DecisionTreeRegressor(max_depth=10, random_state=42)</pre><b>In a Jupyter environment, please rerun this cell to show the HTML representation or trust the notebook. <br />On GitHub, the HTML representation is unable to render, please try loading this page with nbviewer.org.</b></div><div class=\"sk-container\" hidden><div class=\"sk-item\"><div class=\"sk-estimator sk-toggleable\"><input class=\"sk-toggleable__control sk-hidden--visually\" id=\"sk-estimator-id-2\" type=\"checkbox\" checked><label for=\"sk-estimator-id-2\" class=\"sk-toggleable__label sk-toggleable__label-arrow\">DecisionTreeRegressor</label><div class=\"sk-toggleable__content\"><pre>DecisionTreeRegressor(max_depth=10, random_state=42)</pre></div></div></div></div></div>"
      ],
      "text/plain": [
       "DecisionTreeRegressor(max_depth=10, random_state=42)"
      ]
     },
     "execution_count": 11,
     "metadata": {},
     "output_type": "execute_result"
    }
   ],
   "source": [
    "# DesionTreeRegressor\n",
    "from sklearn.tree import DecisionTreeRegressor\n",
    "from sklearn.metrics import r2_score as r2_score_metric\n",
    "\n",
    "# create the Decision Tree Regressor model\n",
    "dt_model = DecisionTreeRegressor(max_depth=10, random_state=42)\n",
    "\n",
    "dt_model.fit(X_train, y_train)\n",
    "\n"
   ]
  },
  {
   "cell_type": "code",
   "execution_count": 12,
   "metadata": {},
   "outputs": [
    {
     "name": "stdout",
     "output_type": "stream",
     "text": [
      "Decision Tree MSE: 0.12895927601809956\n",
      "Decision Tree R2-score: 0.9358743652722807\n"
     ]
    }
   ],
   "source": [
    "\n",
    "# predict the test set\n",
    "y_pred_dt = dt_model.predict(X_test)\n",
    "\n",
    "# calculate the MSE, R2-score\n",
    "mse_dt = mean_squared_error(y_test, y_pred_dt)\n",
    "r2_dt = r2_score_metric(y_test, y_pred_dt)\n",
    "\n",
    "print(f\"Decision Tree MSE: {mse_dt}\")\n",
    "print(f\"Decision Tree R2-score: {r2_dt}\")\n"
   ]
  },
  {
   "cell_type": "code",
   "execution_count": 13,
   "metadata": {},
   "outputs": [
    {
     "data": {
      "image/png": "[encoded data removed]",
      "text/plain": [
       "<Figure size 640x480 with 1 Axes>"
      ]
     },
     "metadata": {},
     "output_type": "display_data"
    }
   ],
   "source": [
    "import sklearn\n",
    "from sklearn import tree\n",
    "sklearn.tree.plot_tree(dt_model)\n",
    "plt.show()\n"
   ]
  },
  {
   "cell_type": "markdown",
   "metadata": {},
   "source": [
    "##### Model option: XGBoost"
   ]
  },
  {
   "cell_type": "code",
   "execution_count": 14,
   "metadata": {},
   "outputs": [],
   "source": [
    "#!pip install xgboost"
   ]
  },
  {
   "cell_type": "code",
   "execution_count": 15,
   "metadata": {},
   "outputs": [
    {
     "name": "stdout",
     "output_type": "stream",
     "text": [
      "{'learning_rate': 0.1, 'max_depth': 3, 'n_estimators': 100}\n",
      "0.990990838938048\n"
     ]
    }
   ],
   "source": [
    "# XGBoost\n",
    "from xgboost import XGBRegressor\n",
    "from sklearn.model_selection import GridSearchCV\n",
    "\n",
    "param_grid = {\n",
    "    'n_estimators': [100, 200, 300],\n",
    "    'learning_rate': [0.01, 0.1, 0.2],\n",
    "    'max_depth': [3, 4, 5]\n",
    "}\n",
    "\n",
    "# to specify multiple scoring metrics (r2 and mse)\n",
    "scoring = {\n",
    "    'r2': 'r2',\n",
    "    'mse': 'neg_mean_squared_error'\n",
    "}\n",
    "\n",
    "grid_search = GridSearchCV(\n",
    "    XGBRegressor(n_estimators=100, learning_rate=0.1, max_depth=6, random_state=42),\n",
    "    param_grid,\n",
    "    cv=5,\n",
    "    scoring=scoring,\n",
    "    refit='r2'  # use r2 score to select the best model\n",
    ")\n",
    "\n",
    "grid_search.fit(X_train, y_train)\n",
    "\n",
    "print(grid_search.best_params_)\n",
    "print(grid_search.best_score_)\n",
    "\n",
    "\n"
   ]
  },
  {
   "cell_type": "markdown",
   "metadata": {},
   "source": [
    "##### Model option: MLP(Multi-Layer Perceptron Regression)"
   ]
  },
  {
   "cell_type": "code",
   "execution_count": 16,
   "metadata": {},
   "outputs": [
    {
     "name": "stdout",
     "output_type": "stream",
     "text": [
      "{'alpha': 0.001, 'hidden_layer_sizes': (100,), 'learning_rate_init': 0.001}\n",
      "0.45479328281558323\n"
     ]
    }
   ],
   "source": [
    "# MLP\n",
    "from sklearn.neural_network import MLPRegressor\n",
    "from sklearn.model_selection import GridSearchCV\n",
    "\n",
    "param_grid = {\n",
    "    'hidden_layer_sizes': [(50,), (100,), (100, 50)],\n",
    "    'learning_rate_init': [0.001, 0.01],\n",
    "    'alpha': [0.0001, 0.001, 0.01]\n",
    "}\n",
    "\n",
    "grid_search = GridSearchCV(\n",
    "    MLPRegressor(max_iter=1000, random_state=42),\n",
    "    param_grid,\n",
    "    cv=5,\n",
    "    scoring='r2'\n",
    ")\n",
    "\n",
    "\n",
    "grid_search.fit(X_train, y_train)\n",
    "print(grid_search.best_params_)\n",
    "print(grid_search.best_score_)\n",
    "\n",
    "\n",
    "\n"
   ]
  },
  {
   "cell_type": "markdown",
   "metadata": {},
   "source": []
  }
 ],
 "metadata": {
  "kernelspec": {
   "display_name": "Springboard",
   "language": "python",
   "name": "python3"
  },
  "language_info": {
   "codemirror_mode": {
    "name": "ipython",
    "version": 3
   },
   "file_extension": ".py",
   "mimetype": "text/x-python",
   "name": "python",
   "nbconvert_exporter": "python",
   "pygments_lexer": "ipython3",
   "version": "3.8.19"
  }
 },
 "nbformat": 4,
 "nbformat_minor": 2
}
